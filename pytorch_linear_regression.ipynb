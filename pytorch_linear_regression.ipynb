{
 "cells": [
  {
   "cell_type": "code",
   "execution_count": 95,
   "id": "d5ed6cee",
   "metadata": {},
   "outputs": [],
   "source": [
    "import torch\n",
    "import torch.nn as nn\n",
    "from torch.utils.data  import TensorDataset\n",
    "from torch.utils.data import DataLoader\n",
    "import torch.nn.functional as f\n",
    "import numpy as np"
   ]
  },
  {
   "cell_type": "code",
   "execution_count": 96,
   "id": "350d2e9e",
   "metadata": {},
   "outputs": [],
   "source": [
    "inputs=np.array([[73,67,43],\n",
    "                [91,88,64],\n",
    "                [87,134,58],\n",
    "                [102,43,37],\n",
    "                [69,96,70]],dtype='float32')\n",
    "targets=np.array([[56,70],\n",
    "                 [81,101],\n",
    "                 [119,133],\n",
    "                 [22,37],\n",
    "                 [103,119]],dtype='float32')"
   ]
  },
  {
   "cell_type": "code",
   "execution_count": 97,
   "id": "4d9e68aa",
   "metadata": {},
   "outputs": [],
   "source": [
    "inputs=torch.from_numpy(inputs)\n",
    "targets=torch.from_numpy(targets)"
   ]
  },
  {
   "cell_type": "code",
   "execution_count": 98,
   "id": "239dcaf2",
   "metadata": {},
   "outputs": [],
   "source": [
    "train_ds=TensorDataset(inputs,targets)"
   ]
  },
  {
   "cell_type": "code",
   "execution_count": 99,
   "id": "b0f17369",
   "metadata": {},
   "outputs": [
    {
     "data": {
      "text/plain": [
       "(tensor([[ 73.,  67.,  43.],\n",
       "         [ 91.,  88.,  64.],\n",
       "         [ 87., 134.,  58.]]),\n",
       " tensor([[ 56.,  70.],\n",
       "         [ 81., 101.],\n",
       "         [119., 133.]]))"
      ]
     },
     "execution_count": 99,
     "metadata": {},
     "output_type": "execute_result"
    }
   ],
   "source": [
    "train_ds[0:3]"
   ]
  },
  {
   "cell_type": "code",
   "execution_count": 100,
   "id": "f68b10e8",
   "metadata": {},
   "outputs": [],
   "source": [
    "batch_size=2"
   ]
  },
  {
   "cell_type": "code",
   "execution_count": 101,
   "id": "b6a72093",
   "metadata": {},
   "outputs": [],
   "source": [
    "train_dl=DataLoader(train_ds,batch_size,shuffle=True)"
   ]
  },
  {
   "cell_type": "code",
   "execution_count": 102,
   "id": "c2104fbb",
   "metadata": {},
   "outputs": [
    {
     "name": "stdout",
     "output_type": "stream",
     "text": [
      "btach:\n",
      "tensor([[ 69.,  96.,  70.],\n",
      "        [ 87., 134.,  58.]])\n",
      "tensor([[103., 119.],\n",
      "        [119., 133.]])\n",
      "btach:\n",
      "tensor([[102.,  43.,  37.],\n",
      "        [ 73.,  67.,  43.]])\n",
      "tensor([[22., 37.],\n",
      "        [56., 70.]])\n",
      "btach:\n",
      "tensor([[91., 88., 64.]])\n",
      "tensor([[ 81., 101.]])\n"
     ]
    }
   ],
   "source": [
    "for xb,yb in train_dl:\n",
    "    print('btach:')\n",
    "    print(xb)\n",
    "    print(yb)"
   ]
  },
  {
   "cell_type": "code",
   "execution_count": 103,
   "id": "5273e20a",
   "metadata": {},
   "outputs": [
    {
     "name": "stdout",
     "output_type": "stream",
     "text": [
      "tensor([[-55.7548, -40.6705],\n",
      "        [-69.3951, -54.7837],\n",
      "        [-89.9842, -43.2874],\n",
      "        [-59.8536, -54.3494],\n",
      "        [-61.2682, -46.6214]], grad_fn=<AddmmBackward0>)\n"
     ]
    }
   ],
   "source": [
    "model=nn.Linear(3,2)\n",
    "preds=model(inputs)\n",
    "print(preds)"
   ]
  },
  {
   "cell_type": "code",
   "execution_count": 104,
   "id": "393d17df",
   "metadata": {},
   "outputs": [
    {
     "data": {
      "text/plain": [
       "tensor(21583.5176, grad_fn=<MseLossBackward0>)"
      ]
     },
     "execution_count": 104,
     "metadata": {},
     "output_type": "execute_result"
    }
   ],
   "source": [
    "loss_fn=f.mse_loss\n",
    "loss=loss_fn(model(inputs),targets)\n",
    "loss"
   ]
  },
  {
   "cell_type": "code",
   "execution_count": 105,
   "id": "48518171",
   "metadata": {},
   "outputs": [],
   "source": [
    "opt=torch.optim.SGD(model.parameters(),lr=1e-5)"
   ]
  },
  {
   "cell_type": "code",
   "execution_count": 106,
   "id": "059f8741",
   "metadata": {},
   "outputs": [],
   "source": [
    "def fit(num_epochs,model,loss_fn,opt,train_dl):\n",
    "    for epoch in range(num_epochs):\n",
    "        for xb,yb in train_dl:\n",
    "            pred=model(xb)\n",
    "            loss=loss_fn(pred,yb)\n",
    "            loss.backward()\n",
    "            opt.step()\n",
    "            opt.zero_grad()\n",
    "            if(epoch+1)%10 ==0:\n",
    "                print('Epoch[{}/{}],loss:{:4f}'.format(epoch+1,num_epochs,loss))\n"
   ]
  },
  {
   "cell_type": "code",
   "execution_count": 107,
   "id": "700d1acb",
   "metadata": {},
   "outputs": [
    {
     "name": "stdout",
     "output_type": "stream",
     "text": [
      "Epoch[10/100],loss:187.296265\n",
      "Epoch[10/100],loss:453.331390\n",
      "Epoch[10/100],loss:34.870544\n",
      "Epoch[20/100],loss:264.910461\n",
      "Epoch[20/100],loss:119.079445\n",
      "Epoch[20/100],loss:193.336075\n",
      "Epoch[30/100],loss:27.931942\n",
      "Epoch[30/100],loss:249.664017\n",
      "Epoch[30/100],loss:159.453857\n",
      "Epoch[40/100],loss:132.893097\n",
      "Epoch[40/100],loss:126.371460\n",
      "Epoch[40/100],loss:25.720387\n",
      "Epoch[50/100],loss:76.443466\n",
      "Epoch[50/100],loss:128.980667\n",
      "Epoch[50/100],loss:11.025831\n",
      "Epoch[60/100],loss:70.668915\n",
      "Epoch[60/100],loss:60.710587\n",
      "Epoch[60/100],loss:67.311867\n",
      "Epoch[70/100],loss:12.393796\n",
      "Epoch[70/100],loss:62.743706\n",
      "Epoch[70/100],loss:118.280930\n",
      "Epoch[80/100],loss:35.477139\n",
      "Epoch[80/100],loss:36.158897\n",
      "Epoch[80/100],loss:75.939087\n",
      "Epoch[90/100],loss:24.004986\n",
      "Epoch[90/100],loss:53.745464\n",
      "Epoch[90/100],loss:41.028397\n",
      "Epoch[100/100],loss:20.168528\n",
      "Epoch[100/100],loss:32.632416\n",
      "Epoch[100/100],loss:61.298729\n"
     ]
    }
   ],
   "source": [
    "fit(100,model,loss_fn,opt,train_dl)"
   ]
  },
  {
   "cell_type": "code",
   "execution_count": 108,
   "id": "7ebe7e21",
   "metadata": {},
   "outputs": [],
   "source": [
    "\n",
    "preds=model(inputs)"
   ]
  },
  {
   "cell_type": "code",
   "execution_count": 109,
   "id": "1017750c",
   "metadata": {},
   "outputs": [
    {
     "data": {
      "text/plain": [
       "tensor([[ 58.4963,  73.1231],\n",
       "        [ 83.6814,  98.3612],\n",
       "        [115.5043, 144.1276],\n",
       "        [ 26.5950,  44.2813],\n",
       "        [101.1932, 110.2015]], grad_fn=<AddmmBackward0>)"
      ]
     },
     "execution_count": 109,
     "metadata": {},
     "output_type": "execute_result"
    }
   ],
   "source": [
    "preds"
   ]
  },
  {
   "cell_type": "code",
   "execution_count": 111,
   "id": "2627c016",
   "metadata": {},
   "outputs": [
    {
     "data": {
      "text/plain": [
       "tensor([[ 56.,  70.],\n",
       "        [ 81., 101.],\n",
       "        [119., 133.],\n",
       "        [ 22.,  37.],\n",
       "        [103., 119.]])"
      ]
     },
     "execution_count": 111,
     "metadata": {},
     "output_type": "execute_result"
    }
   ],
   "source": [
    "targets"
   ]
  },
  {
   "cell_type": "code",
   "execution_count": 110,
   "id": "8496fbd4",
   "metadata": {},
   "outputs": [
    {
     "data": {
      "text/plain": [
       "[Parameter containing:\n",
       " tensor([[-0.3243,  0.7575,  0.7197],\n",
       "         [-0.0953,  1.0209,  0.2626]], requires_grad=True),\n",
       " Parameter containing:\n",
       " tensor([0.4667, 0.3895], requires_grad=True)]"
      ]
     },
     "execution_count": 110,
     "metadata": {},
     "output_type": "execute_result"
    }
   ],
   "source": [
    "list(model.parameters())"
   ]
  }
 ],
 "metadata": {
  "kernelspec": {
   "display_name": "Python 3 (ipykernel)",
   "language": "python",
   "name": "python3"
  },
  "language_info": {
   "codemirror_mode": {
    "name": "ipython",
    "version": 3
   },
   "file_extension": ".py",
   "mimetype": "text/x-python",
   "name": "python",
   "nbconvert_exporter": "python",
   "pygments_lexer": "ipython3",
   "version": "3.9.12"
  }
 },
 "nbformat": 4,
 "nbformat_minor": 5
}
