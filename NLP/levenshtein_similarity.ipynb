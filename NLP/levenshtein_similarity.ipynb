{
 "cells": [
  {
   "cell_type": "code",
   "execution_count": 2,
   "id": "6022ec1d",
   "metadata": {},
   "outputs": [],
   "source": [
    "import pandas as pd\n",
    "import numpy as np\n"
   ]
  },
  {
   "cell_type": "code",
   "execution_count": 3,
   "id": "c5b6bf85",
   "metadata": {},
   "outputs": [
    {
     "data": {
      "text/html": [
       "<div>\n",
       "<style scoped>\n",
       "    .dataframe tbody tr th:only-of-type {\n",
       "        vertical-align: middle;\n",
       "    }\n",
       "\n",
       "    .dataframe tbody tr th {\n",
       "        vertical-align: top;\n",
       "    }\n",
       "\n",
       "    .dataframe thead th {\n",
       "        text-align: right;\n",
       "    }\n",
       "</style>\n",
       "<table border=\"1\" class=\"dataframe\">\n",
       "  <thead>\n",
       "    <tr style=\"text-align: right;\">\n",
       "      <th></th>\n",
       "      <th>Unnamed: 0</th>\n",
       "      <th>ID</th>\n",
       "      <th>text</th>\n",
       "      <th>clean_text</th>\n",
       "    </tr>\n",
       "  </thead>\n",
       "  <tbody>\n",
       "    <tr>\n",
       "      <th>0</th>\n",
       "      <td>0</td>\n",
       "      <td>57</td>\n",
       "      <td>Every person has a right to profess, practice ...</td>\n",
       "      <td>person profess practice propagate religion he ...</td>\n",
       "    </tr>\n",
       "    <tr>\n",
       "      <th>1</th>\n",
       "      <td>1</td>\n",
       "      <td>1603</td>\n",
       "      <td>That is , the pigment particles mix with the v...</td>\n",
       "      <td>pigment particle mix vehicle particle distribu...</td>\n",
       "    </tr>\n",
       "    <tr>\n",
       "      <th>2</th>\n",
       "      <td>2</td>\n",
       "      <td>755</td>\n",
       "      <td>The Prime Minister of India is the leader of t...</td>\n",
       "      <td>prime minister india leader ruling party lok s...</td>\n",
       "    </tr>\n",
       "    <tr>\n",
       "      <th>3</th>\n",
       "      <td>3</td>\n",
       "      <td>1636</td>\n",
       "      <td>The water you drink now-a-days is not safe .</td>\n",
       "      <td>water drink nowadays safe</td>\n",
       "    </tr>\n",
       "    <tr>\n",
       "      <th>4</th>\n",
       "      <td>4</td>\n",
       "      <td>828</td>\n",
       "      <td>I , along with my mother , brothers and sister...</td>\n",
       "      <td>mother brother sister brought small bamboo</td>\n",
       "    </tr>\n",
       "  </tbody>\n",
       "</table>\n",
       "</div>"
      ],
      "text/plain": [
       "   Unnamed: 0    ID                                               text  \\\n",
       "0           0    57  Every person has a right to profess, practice ...   \n",
       "1           1  1603  That is , the pigment particles mix with the v...   \n",
       "2           2   755  The Prime Minister of India is the leader of t...   \n",
       "3           3  1636       The water you drink now-a-days is not safe .   \n",
       "4           4   828  I , along with my mother , brothers and sister...   \n",
       "\n",
       "                                          clean_text  \n",
       "0  person profess practice propagate religion he ...  \n",
       "1  pigment particle mix vehicle particle distribu...  \n",
       "2  prime minister india leader ruling party lok s...  \n",
       "3                          water drink nowadays safe  \n",
       "4         mother brother sister brought small bamboo  "
      ]
     },
     "execution_count": 3,
     "metadata": {},
     "output_type": "execute_result"
    }
   ],
   "source": [
    "clean=pd.read_csv(\"clean_data.csv\")\n",
    "clean.head()"
   ]
  },
  {
   "cell_type": "code",
   "execution_count": 4,
   "id": "9f32ca29",
   "metadata": {},
   "outputs": [
    {
     "name": "stdout",
     "output_type": "stream",
     "text": [
      "Requirement already satisfied: strsimpy in d:\\anaconda\\lib\\site-packages (0.2.1)\n"
     ]
    }
   ],
   "source": [
    "! pip install strsimpy"
   ]
  },
  {
   "cell_type": "code",
   "execution_count": 5,
   "id": "6f6b39a3",
   "metadata": {},
   "outputs": [],
   "source": [
    "from strsimpy.levenshtein import Levenshtein\n",
    "leven=Levenshtein()"
   ]
  },
  {
   "cell_type": "code",
   "execution_count": 6,
   "id": "918bc1e3",
   "metadata": {},
   "outputs": [],
   "source": [
    "df=pd.read_csv('pairs-label-training (1).txt')"
   ]
  },
  {
   "cell_type": "code",
   "execution_count": 7,
   "id": "84222bd5",
   "metadata": {},
   "outputs": [
    {
     "data": {
      "text/html": [
       "<div>\n",
       "<style scoped>\n",
       "    .dataframe tbody tr th:only-of-type {\n",
       "        vertical-align: middle;\n",
       "    }\n",
       "\n",
       "    .dataframe tbody tr th {\n",
       "        vertical-align: top;\n",
       "    }\n",
       "\n",
       "    .dataframe thead th {\n",
       "        text-align: right;\n",
       "    }\n",
       "</style>\n",
       "<table border=\"1\" class=\"dataframe\">\n",
       "  <thead>\n",
       "    <tr style=\"text-align: right;\">\n",
       "      <th></th>\n",
       "      <th>p1</th>\n",
       "      <th>p2</th>\n",
       "      <th>bias</th>\n",
       "    </tr>\n",
       "  </thead>\n",
       "  <tbody>\n",
       "    <tr>\n",
       "      <th>0</th>\n",
       "      <td>98</td>\n",
       "      <td>651</td>\n",
       "      <td>0</td>\n",
       "    </tr>\n",
       "    <tr>\n",
       "      <th>1</th>\n",
       "      <td>696</td>\n",
       "      <td>1870</td>\n",
       "      <td>1</td>\n",
       "    </tr>\n",
       "    <tr>\n",
       "      <th>2</th>\n",
       "      <td>1073</td>\n",
       "      <td>1620</td>\n",
       "      <td>0</td>\n",
       "    </tr>\n",
       "    <tr>\n",
       "      <th>3</th>\n",
       "      <td>167</td>\n",
       "      <td>633</td>\n",
       "      <td>0</td>\n",
       "    </tr>\n",
       "    <tr>\n",
       "      <th>4</th>\n",
       "      <td>4</td>\n",
       "      <td>640</td>\n",
       "      <td>0</td>\n",
       "    </tr>\n",
       "  </tbody>\n",
       "</table>\n",
       "</div>"
      ],
      "text/plain": [
       "     p1    p2  bias\n",
       "0    98   651     0\n",
       "1   696  1870     1\n",
       "2  1073  1620     0\n",
       "3   167   633     0\n",
       "4     4   640     0"
      ]
     },
     "execution_count": 7,
     "metadata": {},
     "output_type": "execute_result"
    }
   ],
   "source": [
    "df.head()"
   ]
  },
  {
   "cell_type": "code",
   "execution_count": 8,
   "id": "b0228168",
   "metadata": {},
   "outputs": [],
   "source": [
    "biaswithlabel0p1=[]\n",
    "\n"
   ]
  },
  {
   "cell_type": "code",
   "execution_count": 9,
   "id": "e6934e8e",
   "metadata": {},
   "outputs": [],
   "source": [
    "biaswithlabel0p1.append(df[df['bias']==0]['p1'].unique())"
   ]
  },
  {
   "cell_type": "code",
   "execution_count": 10,
   "id": "4140483a",
   "metadata": {},
   "outputs": [
    {
     "data": {
      "text/plain": [
       "[array([  98, 1073,  167,    4, 1086, 1114, 1041,  123,   10,   79, 1189,\n",
       "        1054,   12,  168, 1140, 1160,   55,   88, 1094, 1013,   58,  161,\n",
       "        1069,  135,  162, 1133, 1071,   87, 1092,  189,  169,  118, 1042,\n",
       "        1181, 1056, 1107, 1083,  155,   68,  158, 1049,   64,   22,  122,\n",
       "          49, 1035, 1195,  159, 1127,  170,   41,   48, 1016, 1124, 1066,\n",
       "        1105,   32,  127,  192, 1006,   33, 1036, 1187,   73, 1146, 1198,\n",
       "        1147,   95,   81, 1119, 1144, 1070, 1136,  163,   85, 1074,   74,\n",
       "         174, 1182, 1193, 1060,  196,   71, 1120,   24,  140, 1001,  150,\n",
       "        1117,  164, 1180, 1129, 1125,   93, 1164,   13,  144,   15,  147,\n",
       "        1026, 1167, 1163, 1050, 1030, 1062,  175,   26,   70, 1065, 1165,\n",
       "        1192, 1178, 1004,   46, 1118,   30, 1109, 1055,   52,  131,   75,\n",
       "         117,  126,  108,  114,  103, 1045,  121,   69,   92, 1197, 1082,\n",
       "          77, 1126,   14,   76, 1138, 1110,  191, 1012,  119,   51,    2,\n",
       "          17,   35,   80, 1022,   37,  200, 1103, 1115, 1101,   63, 1112,\n",
       "         181,  197,  165,  105,  148, 1145, 1121,    9,  179,  198,  195,\n",
       "        1102,   53, 1137, 1087,   86,  154, 1038, 1032,  106, 1091, 1142,\n",
       "         129, 1185, 1176, 1014, 1040, 1018,  136, 1015,   84, 1068,   29,\n",
       "           5,   20, 1116, 1139, 1033,  132,   62, 1027,  152,  143,   82,\n",
       "        1190, 1128,  138, 1052,  102,   89, 1111,  157, 1023,  101,  112,\n",
       "        1179,    3, 1096,  160,   57, 1171,   97,  115, 1028, 1098, 1059,\n",
       "           6, 1031,  149,  172, 1051, 1090, 1156,  109,   91, 1158, 1131,\n",
       "          56, 1169, 1019, 1184, 1130, 1061,  186,    7,   38,   42,  194,\n",
       "          36, 1034, 1078,   94, 1076, 1153,  104, 1104,   83, 1183,  120,\n",
       "        1155, 1097, 1175,   99, 1008, 1005,  142, 1047,  171,   40, 1159,\n",
       "          54,  130,   27, 1020, 1003, 1148,  193,  113, 1170,  137,  173,\n",
       "         188,  145, 1099, 1064, 1063, 1122, 1072,   60, 1077,  139, 1085,\n",
       "        1088, 1134, 1200,  141,   28, 1106, 1172, 1166, 1021,   11, 1108,\n",
       "        1046, 1168,  199, 1011,   45, 1194, 1044,  176, 1010,    1, 1149,\n",
       "          67, 1048,  182,  124,   50,  184,   25,  177,  100, 1017, 1095,\n",
       "        1084, 1177,  134, 1113, 1080,  133, 1029, 1123, 1079, 1157,   39,\n",
       "        1009, 1075, 1025, 1057, 1196, 1161,   23,  180, 1024, 1191,   72,\n",
       "        1186, 1089, 1162,  185,  151, 1043, 1132,  166, 1053, 1093,  125,\n",
       "          96,   59,   19, 1058, 1173,  116, 1152, 1081, 1199, 1037,  128,\n",
       "          16, 1100,   31,   44,   66,    8, 1039, 1188,  146, 1007,  178,\n",
       "        1150,   34,   21,  153, 1154,   43,   61, 1002, 1174,  107,  190,\n",
       "         111, 1143,  187,  156,  110, 1151, 1067,   47, 1135,   90,   78,\n",
       "          65, 1141,   18,  183], dtype=int64)]"
      ]
     },
     "execution_count": 10,
     "metadata": {},
     "output_type": "execute_result"
    }
   ],
   "source": [
    "biaswithlabel0p1"
   ]
  },
  {
   "cell_type": "code",
   "execution_count": 11,
   "id": "daeaed5a",
   "metadata": {},
   "outputs": [],
   "source": [
    "biaswithlabel0p2=[]"
   ]
  },
  {
   "cell_type": "code",
   "execution_count": 12,
   "id": "88b323f2",
   "metadata": {},
   "outputs": [],
   "source": [
    "biaswithlabel0p2.append(df[df['bias']==0]['p2'].unique())"
   ]
  },
  {
   "cell_type": "code",
   "execution_count": 13,
   "id": "0b70322c",
   "metadata": {},
   "outputs": [
    {
     "data": {
      "text/plain": [
       "[array([ 651, 1620,  633,  640, 1696, 1557, 1531,  682,  501,  670, 1654,\n",
       "        1585,  577,  539, 1516, 1691,  673,  614, 1633,  564, 1686, 1641,\n",
       "         579,  534, 1618,  554,  603, 1561, 1527,  635, 1687,  522,  518,\n",
       "         563, 1651, 1560, 1530, 1678,  624,  620,  575, 1634,  514,  641,\n",
       "         615, 1529, 1695,  689, 1570,  642,  595,  574, 1614, 1586, 1508,\n",
       "        1514,  558,  627, 1625,  647,  679, 1613,  661, 1535, 1642,  612,\n",
       "        1606, 1675,  628,  590, 1637, 1526, 1503, 1564,  618, 1640,  520,\n",
       "         664, 1621, 1666, 1534, 1599,  610,  551,  672,  648, 1501,  699,\n",
       "        1669,  535,  605, 1512, 1629, 1647,  526, 1538,  570,  636,  653,\n",
       "         667, 1544, 1532, 1631, 1520, 1551, 1540,  613, 1500,  506,  609,\n",
       "        1665, 1600, 1596, 1685, 1609,  666, 1626, 1672,  546,  685, 1568,\n",
       "         593,  602,  565, 1602, 1506,  521,  668,  684,  688, 1653,  596,\n",
       "        1693, 1652, 1661,  502, 1541,  515,  544, 1697,  597, 1577, 1674,\n",
       "        1683,  660, 1563,  604,  654,  676, 1569,  652,  608,  524, 1584,\n",
       "         562, 1670,  694,  552,  568,  621, 1623,  687,  665,  510, 1698,\n",
       "        1580,  644,  584,  659, 1545,  629, 1648,  519, 1645, 1597,  623,\n",
       "        1664,  571, 1608, 1504,  516, 1659,  657, 1525, 1542,  537,  678,\n",
       "        1607, 1592,  663,  549,  669,  631, 1567,  594,  599, 1612, 1509,\n",
       "        1660,  686,  543, 1650, 1643, 1601,  600,  639,  581, 1523, 1700,\n",
       "        1617,  677,  680, 1657,  533,  698, 1533,  513,  528, 1559, 1627,\n",
       "         566, 1521,  622, 1571, 1638,  500,  598, 1590, 1644,  592,  674,\n",
       "         529,  630, 1615,  536,  617, 1682, 1690, 1677, 1632,  591,  547,\n",
       "         580, 1524,  532, 1510, 1519,  587, 1667, 1522,  548,  606,  559,\n",
       "         626,  662,  681,  585, 1549,  553, 1646,  540, 1688, 1591, 1610,\n",
       "        1556, 1587, 1605, 1594,  530,  658,  646, 1604, 1589, 1575, 1555,\n",
       "         509, 1558, 1562, 1630, 1511, 1622, 1595,  576, 1689, 1528, 1583,\n",
       "         512, 1579, 1694, 1573, 1598,  517, 1518, 1565, 1636,  550,  671,\n",
       "         586, 1649, 1581,  527,  691,  569,  616,  643, 1680, 1578,  582,\n",
       "         650, 1611, 1656, 1635, 1673, 1681, 1502, 1505, 1515, 1554,  560,\n",
       "        1616,  645,  619, 1536, 1517,  683,  542,  655, 1663,  555, 1619,\n",
       "         695, 1628,  523,  693, 1513, 1507,  638, 1658, 1548, 1572,  531,\n",
       "        1537, 1547, 1552,  637, 1668,  538, 1624,  556, 1566,  588, 1576,\n",
       "        1543, 1699,  632,  675, 1582,  649, 1550, 1655, 1684,  589,  504,\n",
       "         508,  611, 1539,  545,  557, 1639,  505,  541,  507, 1692, 1574,\n",
       "         700,  583, 1671,  561, 1553,  690, 1546,  503, 1603,  607,  697,\n",
       "         634,  578,  567, 1662, 1679,  525,  572,  601,  511, 1593,  696,\n",
       "         625,  656,  692, 1588,  573, 1676], dtype=int64)]"
      ]
     },
     "execution_count": 13,
     "metadata": {},
     "output_type": "execute_result"
    }
   ],
   "source": [
    "biaswithlabel0p2"
   ]
  },
  {
   "cell_type": "code",
   "execution_count": 14,
   "id": "8dde6566",
   "metadata": {},
   "outputs": [
    {
     "data": {
      "text/plain": [
       "Unnamed: 0     int64\n",
       "ID             int64\n",
       "text          object\n",
       "clean_text    object\n",
       "dtype: object"
      ]
     },
     "execution_count": 14,
     "metadata": {},
     "output_type": "execute_result"
    }
   ],
   "source": [
    "clean.dtypes"
   ]
  },
  {
   "cell_type": "code",
   "execution_count": 15,
   "id": "9ea0e2fe",
   "metadata": {},
   "outputs": [],
   "source": [
    "biastextp1=[]"
   ]
  },
  {
   "cell_type": "markdown",
   "id": "e4f7a222",
   "metadata": {},
   "source": [
    "for 0 2000 clean\n",
    " for 0 400 bias with label\n",
    "   if == :\n",
    "     append"
   ]
  },
  {
   "cell_type": "code",
   "execution_count": 16,
   "id": "72fab112",
   "metadata": {},
   "outputs": [],
   "source": [
    "def leven_distance_count_method(s1,s2):\n",
    "    all_sentences=[s1,s2]\n",
    "    from strsimpy.levenshtein import Levenshtein\n",
    "    levenshtein = Levenshtein()\n",
    "    leven=levenshtein.distance(s1,s2)\n",
    "    return leven"
   ]
  },
  {
   "cell_type": "code",
   "execution_count": 17,
   "id": "5a274577",
   "metadata": {},
   "outputs": [],
   "source": [
    "def find_leven_sim(df,clean,bias):\n",
    "    leven_sim=[]\n",
    "    for i,rows in df[df['bias']==bias].iterrows():\n",
    "        \n",
    "        \n",
    "        s1=str(clean[clean['ID']==rows[\"p1\"]].iloc[0,3])\n",
    "        s2=str(clean[clean['ID']==rows[\"p2\"]].iloc[0,3])\n",
    "        leven_sim.append(leven_distance_count_method(s1,s2))\n",
    "    return leven_sim   \n",
    "    "
   ]
  },
  {
   "cell_type": "code",
   "execution_count": 18,
   "id": "b77be12a",
   "metadata": {},
   "outputs": [],
   "source": [
    "leven_sim_0=[]\n",
    "leven_sim_1=[]"
   ]
  },
  {
   "cell_type": "code",
   "execution_count": 19,
   "id": "e83d31af",
   "metadata": {},
   "outputs": [],
   "source": [
    "leven_sim_0=find_leven_sim(df,clean,0)\n",
    "leven_sim_1=find_leven_sim(df,clean,1)"
   ]
  },
  {
   "cell_type": "code",
   "execution_count": 40,
   "id": "159c2c74",
   "metadata": {},
   "outputs": [
    {
     "data": {
      "image/png": "[encoded data removed]",
      "text/plain": [
       "<Figure size 432x288 with 1 Axes>"
      ]
     },
     "metadata": {
      "needs_background": "light"
     },
     "output_type": "display_data"
    }
   ],
   "source": [
    "import matplotlib.pyplot as pp\n",
    "pp.plot(leven_sim_0,'y')\n",
    "pp.ylabel(\"leveshtein_similarity\")\n",
    "pp.xlabel(\"label_0\")\n",
    "pp.savefig('levenshtein_0',transparent=True)\n"
   ]
  },
  {
   "cell_type": "code",
   "execution_count": 41,
   "id": "d908adde",
   "metadata": {},
   "outputs": [
    {
     "data": {
      "image/png": "[encoded data removed]",
      "text/plain": [
       "<Figure size 432x288 with 1 Axes>"
      ]
     },
     "metadata": {
      "needs_background": "light"
     },
     "output_type": "display_data"
    }
   ],
   "source": [
    "pp.plot(leven_sim_1,'black')\n",
    "\n",
    "pp.ylabel(\"leveshtein_similarity\")\n",
    "pp.xlabel(\"label 1\")\n",
    "pp.savefig('levenshtein_1',transparent=True)\n"
   ]
  },
  {
   "cell_type": "code",
   "execution_count": null,
   "id": "c5ce8c7e",
   "metadata": {},
   "outputs": [],
   "source": []
  }
 ],
 "metadata": {
  "kernelspec": {
   "display_name": "Python 3 (ipykernel)",
   "language": "python",
   "name": "python3"
  },
  "language_info": {
   "codemirror_mode": {
    "name": "ipython",
    "version": 3
   },
   "file_extension": ".py",
   "mimetype": "text/x-python",
   "name": "python",
   "nbconvert_exporter": "python",
   "pygments_lexer": "ipython3",
   "version": "3.9.12"
  }
 },
 "nbformat": 4,
 "nbformat_minor": 5
}
