{
 "cells": [
  {
   "cell_type": "code",
   "execution_count": 3,
   "id": "399db60d",
   "metadata": {},
   "outputs": [],
   "source": [
    "import nltk\n",
    "from nltk.stem import PorterStemmer\n",
    "from nltk.stem import WordNetLemmatizer\n",
    "from nltk.corpus import stopwords\n"
   ]
  },
  {
   "cell_type": "code",
   "execution_count": 4,
   "id": "1ed898bc",
   "metadata": {},
   "outputs": [],
   "source": [
    "para='''quantum mechanics, science dealing with the behaviour of matter and light on the atomic and subatomic scale. It attempts to describe and account for the properties of molecules and atoms and their constituents—electrons, protons, neutrons, and other more esoteric particles such as quarks and gluons. These properties include the interactions of the particles with one another and with electromagnetic radiation (i.e., light, X-rays, and gamma rays).The behaviour of matter and radiation on the atomic scale often seems peculiar, and the consequences of quantum theory are accordingly difficult to understand and to believe. Its concepts frequently conflict with common-sense notions derived from observations of the everyday world. There is no reason, however, why the behaviour of the atomic world should conform to that of the familiar, large-scale world. It is important to realize that quantum mechanics is a branch of physics and that the business of physics is to describe and account for the way the world—on both the large and the small scale—actually is and not how one imagines it or would like it to be.'''"
   ]
  },
  {
   "cell_type": "code",
   "execution_count": 5,
   "id": "ae1053cc",
   "metadata": {},
   "outputs": [
    {
     "data": {
      "text/plain": [
       "'quantum mechanics, science dealing with the behaviour of matter and light on the atomic and subatomic scale. It attempts to describe and account for the properties of molecules and atoms and their constituents—electrons, protons, neutrons, and other more esoteric particles such as quarks and gluons. These properties include the interactions of the particles with one another and with electromagnetic radiation (i.e., light, X-rays, and gamma rays).The behaviour of matter and radiation on the atomic scale often seems peculiar, and the consequences of quantum theory are accordingly difficult to understand and to believe. Its concepts frequently conflict with common-sense notions derived from observations of the everyday world. There is no reason, however, why the behaviour of the atomic world should conform to that of the familiar, large-scale world. It is important to realize that quantum mechanics is a branch of physics and that the business of physics is to describe and account for the way the world—on both the large and the small scale—actually is and not how one imagines it or would like it to be.'"
      ]
     },
     "execution_count": 5,
     "metadata": {},
     "output_type": "execute_result"
    }
   ],
   "source": [
    "para"
   ]
  },
  {
   "cell_type": "code",
   "execution_count": 6,
   "id": "558b1f0e",
   "metadata": {},
   "outputs": [],
   "source": [
    "sentences=nltk.sent_tokenize(para)"
   ]
  },
  {
   "cell_type": "code",
   "execution_count": 7,
   "id": "c3726a26",
   "metadata": {},
   "outputs": [
    {
     "data": {
      "text/plain": [
       "['quantum mechanics, science dealing with the behaviour of matter and light on the atomic and subatomic scale.',\n",
       " 'It attempts to describe and account for the properties of molecules and atoms and their constituents—electrons, protons, neutrons, and other more esoteric particles such as quarks and gluons.',\n",
       " 'These properties include the interactions of the particles with one another and with electromagnetic radiation (i.e., light, X-rays, and gamma rays).The behaviour of matter and radiation on the atomic scale often seems peculiar, and the consequences of quantum theory are accordingly difficult to understand and to believe.',\n",
       " 'Its concepts frequently conflict with common-sense notions derived from observations of the everyday world.',\n",
       " 'There is no reason, however, why the behaviour of the atomic world should conform to that of the familiar, large-scale world.',\n",
       " 'It is important to realize that quantum mechanics is a branch of physics and that the business of physics is to describe and account for the way the world—on both the large and the small scale—actually is and not how one imagines it or would like it to be.']"
      ]
     },
     "execution_count": 7,
     "metadata": {},
     "output_type": "execute_result"
    }
   ],
   "source": [
    "sentences"
   ]
  },
  {
   "cell_type": "code",
   "execution_count": 8,
   "id": "25ab6b0b",
   "metadata": {},
   "outputs": [
    {
     "data": {
      "text/plain": [
       "6"
      ]
     },
     "execution_count": 8,
     "metadata": {},
     "output_type": "execute_result"
    }
   ],
   "source": [
    "len(sentences)"
   ]
  },
  {
   "cell_type": "code",
   "execution_count": 21,
   "id": "c38974c1",
   "metadata": {},
   "outputs": [],
   "source": [
    "import re\n",
    "corpus=[]\n",
    "for i in range(len(sentences)):\n",
    "    review=re.sub('[^a-zA-Z]',' ',sentences[i])\n",
    "    review=review.lower()\n",
    "    review=review.split()\n",
    "    review=[WordNetLemmatizer().lemmatize(word) for word in review if word not in set(stopwords.words('english'))]\n",
    "    review=' '.join(review)\n",
    "    corpus.append(review)"
   ]
  },
  {
   "cell_type": "code",
   "execution_count": 22,
   "id": "6b01c543",
   "metadata": {},
   "outputs": [
    {
     "data": {
      "text/plain": [
       "['quantum mechanic science dealing behaviour matter light atomic subatomic scale',\n",
       " 'attempt describe account property molecule atom constituent electron proton neutron esoteric particle quark gluon',\n",
       " 'property include interaction particle one another electromagnetic radiation e light x ray gamma ray behaviour matter radiation atomic scale often seems peculiar consequence quantum theory accordingly difficult understand believe',\n",
       " 'concept frequently conflict common sense notion derived observation everyday world',\n",
       " 'reason however behaviour atomic world conform familiar large scale world',\n",
       " 'important realize quantum mechanic branch physic business physic describe account way world large small scale actually one imago would like']"
      ]
     },
     "execution_count": 22,
     "metadata": {},
     "output_type": "execute_result"
    }
   ],
   "source": [
    "corpus"
   ]
  },
  {
   "cell_type": "code",
   "execution_count": 16,
   "id": "136392de",
   "metadata": {},
   "outputs": [
    {
     "name": "stdout",
     "output_type": "stream",
     "text": [
      "quantum mechanics  science dealing with the behaviour of matter and light on the atomic and subatomic scal\n",
      "it attempts to describe and account for the properties of molecules and atoms and their constituents electrons  protons  neutrons  and other more esoteric particles such as quarks and gluon\n",
      "these properties include the interactions of the particles with one another and with electromagnetic radiation  i e   light  x rays  and gamma rays  the behaviour of matter and radiation on the atomic scale often seems peculiar  and the consequences of quantum theory are accordingly difficult to understand and to believ\n",
      "its concepts frequently conflict with common sense notions derived from observations of the everyday world\n",
      "there is no reason  however  why the behaviour of the atomic world should conform to that of the familiar  large scale world\n",
      "it is important to realize that quantum mechanics is a branch of physics and that the business of physics is to describe and account for the way the world on both the large and the small scale actually is and not how one imagines it or would like it to b\n"
     ]
    }
   ],
   "source": [
    "# for two loop\n",
    "#stemmer=PorterStemmer()\n",
    "#for i in corpus:\n",
    " ##  for word in words:\n",
    "   #     if word not in set(stopwords.words('english')):\n",
    "    #        print(stemmer.stem(word))"
   ]
  },
  {
   "cell_type": "code",
   "execution_count": 26,
   "id": "76ce4ef1",
   "metadata": {},
   "outputs": [],
   "source": [
    "from sklearn.feature_extraction.text import CountVectorizer\n",
    "cv=CountVectorizer(binary=True,ngram_range=(3,3))\n",
    "x=cv.fit_transform(corpus)\n"
   ]
  },
  {
   "cell_type": "code",
   "execution_count": 27,
   "id": "98a9bb94",
   "metadata": {},
   "outputs": [
    {
     "data": {
      "text/plain": [
       "{'quantum mechanic science': 61,\n",
       " 'mechanic science dealing': 44,\n",
       " 'science dealing behaviour': 71,\n",
       " 'dealing behaviour matter': 21,\n",
       " 'behaviour matter light': 11,\n",
       " 'matter light atomic': 41,\n",
       " 'light atomic subatomic': 39,\n",
       " 'atomic subatomic scale': 7,\n",
       " 'attempt describe account': 9,\n",
       " 'describe account property': 23,\n",
       " 'account property molecule': 1,\n",
       " 'property molecule atom': 58,\n",
       " 'molecule atom constituent': 45,\n",
       " 'atom constituent electron': 5,\n",
       " 'constituent electron proton': 20,\n",
       " 'electron proton neutron': 27,\n",
       " 'proton neutron esoteric': 59,\n",
       " 'neutron esoteric particle': 46,\n",
       " 'esoteric particle quark': 28,\n",
       " 'particle quark gluon': 53,\n",
       " 'property include interaction': 57,\n",
       " 'include interaction particle': 35,\n",
       " 'interaction particle one': 36,\n",
       " 'particle one another': 52,\n",
       " 'one another electromagnetic': 50,\n",
       " 'another electromagnetic radiation': 4,\n",
       " 'electromagnetic radiation light': 26,\n",
       " 'radiation light ray': 64,\n",
       " 'light ray gamma': 40,\n",
       " 'ray gamma ray': 66,\n",
       " 'gamma ray behaviour': 31,\n",
       " 'ray behaviour matter': 65,\n",
       " 'behaviour matter radiation': 12,\n",
       " 'matter radiation atomic': 42,\n",
       " 'radiation atomic scale': 63,\n",
       " 'atomic scale often': 6,\n",
       " 'scale often seems': 70,\n",
       " 'often seems peculiar': 49,\n",
       " 'seems peculiar consequence': 72,\n",
       " 'peculiar consequence quantum': 54,\n",
       " 'consequence quantum theory': 19,\n",
       " 'quantum theory accordingly': 62,\n",
       " 'theory accordingly difficult': 75,\n",
       " 'accordingly difficult understand': 0,\n",
       " 'difficult understand believe': 25,\n",
       " 'concept frequently conflict': 16,\n",
       " 'frequently conflict common': 30,\n",
       " 'conflict common sense': 17,\n",
       " 'common sense notion': 15,\n",
       " 'sense notion derived': 73,\n",
       " 'notion derived observation': 47,\n",
       " 'derived observation everyday': 22,\n",
       " 'observation everyday world': 48,\n",
       " 'reason however behaviour': 68,\n",
       " 'however behaviour atomic': 32,\n",
       " 'behaviour atomic world': 10,\n",
       " 'atomic world conform': 8,\n",
       " 'world conform familiar': 77,\n",
       " 'conform familiar large': 18,\n",
       " 'familiar large scale': 29,\n",
       " 'large scale world': 37,\n",
       " 'important realize quantum': 34,\n",
       " 'realize quantum mechanic': 67,\n",
       " 'quantum mechanic branch': 60,\n",
       " 'mechanic branch physic': 43,\n",
       " 'branch physic business': 13,\n",
       " 'physic business physic': 55,\n",
       " 'business physic describe': 14,\n",
       " 'physic describe account': 56,\n",
       " 'describe account way': 24,\n",
       " 'account way world': 2,\n",
       " 'way world large': 76,\n",
       " 'world large small': 78,\n",
       " 'large small scale': 38,\n",
       " 'small scale actually': 74,\n",
       " 'scale actually one': 69,\n",
       " 'actually one imago': 3,\n",
       " 'one imago would': 51,\n",
       " 'imago would like': 33}"
      ]
     },
     "execution_count": 27,
     "metadata": {},
     "output_type": "execute_result"
    }
   ],
   "source": [
    "cv.vocabulary_"
   ]
  },
  {
   "cell_type": "code",
   "execution_count": 28,
   "id": "5784a960",
   "metadata": {},
   "outputs": [
    {
     "data": {
      "text/plain": [
       "array([[0, 0, 0, 0, 0, 0, 0, 1, 0, 0, 0, 1, 0, 0, 0, 0, 0, 0, 0, 0, 0, 1,\n",
       "        0, 0, 0, 0, 0, 0, 0, 0, 0, 0, 0, 0, 0, 0, 0, 0, 0, 1, 0, 1, 0, 0,\n",
       "        1, 0, 0, 0, 0, 0, 0, 0, 0, 0, 0, 0, 0, 0, 0, 0, 0, 1, 0, 0, 0, 0,\n",
       "        0, 0, 0, 0, 0, 1, 0, 0, 0, 0, 0, 0, 0]], dtype=int64)"
      ]
     },
     "execution_count": 28,
     "metadata": {},
     "output_type": "execute_result"
    }
   ],
   "source": [
    "x[0].toarray()"
   ]
  },
  {
   "cell_type": "code",
   "execution_count": 31,
   "id": "33d7dbe2",
   "metadata": {},
   "outputs": [],
   "source": [
    "##TFIDF \n",
    "from sklearn.feature_extraction.text import TfidfVectorizer\n",
    "model=TfidfVectorizer()\n",
    "y=model.fit_transform(corpus)"
   ]
  },
  {
   "cell_type": "code",
   "execution_count": 32,
   "id": "05976574",
   "metadata": {},
   "outputs": [
    {
     "data": {
      "text/plain": [
       "array([[0.        , 0.        , 0.        , 0.        , 0.        ,\n",
       "        0.26535088, 0.        , 0.26535088, 0.        , 0.        ,\n",
       "        0.        , 0.        , 0.        , 0.        , 0.        ,\n",
       "        0.        , 0.        , 0.38328199, 0.        , 0.        ,\n",
       "        0.        , 0.        , 0.        , 0.        , 0.        ,\n",
       "        0.        , 0.        , 0.        , 0.        , 0.        ,\n",
       "        0.        , 0.        , 0.        , 0.        , 0.        ,\n",
       "        0.31429672, 0.        , 0.31429672, 0.31429672, 0.        ,\n",
       "        0.        , 0.        , 0.        , 0.        , 0.        ,\n",
       "        0.        , 0.        , 0.        , 0.        , 0.        ,\n",
       "        0.26535088, 0.        , 0.        , 0.        , 0.        ,\n",
       "        0.        , 0.22738555, 0.38328199, 0.        , 0.        ,\n",
       "        0.        , 0.38328199, 0.        , 0.        , 0.        ,\n",
       "        0.        , 0.        ]])"
      ]
     },
     "execution_count": 32,
     "metadata": {},
     "output_type": "execute_result"
    }
   ],
   "source": [
    "y[0].toarray()"
   ]
  },
  {
   "cell_type": "code",
   "execution_count": null,
   "id": "0b2d45ab",
   "metadata": {},
   "outputs": [],
   "source": []
  }
 ],
 "metadata": {
  "kernelspec": {
   "display_name": "Python 3 (ipykernel)",
   "language": "python",
   "name": "python3"
  },
  "language_info": {
   "codemirror_mode": {
    "name": "ipython",
    "version": 3
   },
   "file_extension": ".py",
   "mimetype": "text/x-python",
   "name": "python",
   "nbconvert_exporter": "python",
   "pygments_lexer": "ipython3",
   "version": "3.9.12"
  }
 },
 "nbformat": 4,
 "nbformat_minor": 5
}
