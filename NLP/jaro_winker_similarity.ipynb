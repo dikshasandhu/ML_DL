{
 "cells": [
  {
   "cell_type": "code",
   "execution_count": 2,
   "id": "a192b4a3",
   "metadata": {},
   "outputs": [],
   "source": [
    "import pandas as pd\n",
    "import numpy as np\n"
   ]
  },
  {
   "cell_type": "code",
   "execution_count": 3,
   "id": "273987f5",
   "metadata": {},
   "outputs": [],
   "source": [
    "df=pd.read_csv('pairs-label-training (1).txt')"
   ]
  },
  {
   "cell_type": "code",
   "execution_count": 4,
   "id": "536af15e",
   "metadata": {},
   "outputs": [
    {
     "data": {
      "text/html": [
       "<div>\n",
       "<style scoped>\n",
       "    .dataframe tbody tr th:only-of-type {\n",
       "        vertical-align: middle;\n",
       "    }\n",
       "\n",
       "    .dataframe tbody tr th {\n",
       "        vertical-align: top;\n",
       "    }\n",
       "\n",
       "    .dataframe thead th {\n",
       "        text-align: right;\n",
       "    }\n",
       "</style>\n",
       "<table border=\"1\" class=\"dataframe\">\n",
       "  <thead>\n",
       "    <tr style=\"text-align: right;\">\n",
       "      <th></th>\n",
       "      <th>p1</th>\n",
       "      <th>p2</th>\n",
       "      <th>bias</th>\n",
       "    </tr>\n",
       "  </thead>\n",
       "  <tbody>\n",
       "    <tr>\n",
       "      <th>0</th>\n",
       "      <td>98</td>\n",
       "      <td>651</td>\n",
       "      <td>0</td>\n",
       "    </tr>\n",
       "    <tr>\n",
       "      <th>1</th>\n",
       "      <td>696</td>\n",
       "      <td>1870</td>\n",
       "      <td>1</td>\n",
       "    </tr>\n",
       "    <tr>\n",
       "      <th>2</th>\n",
       "      <td>1073</td>\n",
       "      <td>1620</td>\n",
       "      <td>0</td>\n",
       "    </tr>\n",
       "    <tr>\n",
       "      <th>3</th>\n",
       "      <td>167</td>\n",
       "      <td>633</td>\n",
       "      <td>0</td>\n",
       "    </tr>\n",
       "    <tr>\n",
       "      <th>4</th>\n",
       "      <td>4</td>\n",
       "      <td>640</td>\n",
       "      <td>0</td>\n",
       "    </tr>\n",
       "  </tbody>\n",
       "</table>\n",
       "</div>"
      ],
      "text/plain": [
       "     p1    p2  bias\n",
       "0    98   651     0\n",
       "1   696  1870     1\n",
       "2  1073  1620     0\n",
       "3   167   633     0\n",
       "4     4   640     0"
      ]
     },
     "execution_count": 4,
     "metadata": {},
     "output_type": "execute_result"
    }
   ],
   "source": [
    "df.head()"
   ]
  },
  {
   "cell_type": "code",
   "execution_count": 5,
   "id": "630d422e",
   "metadata": {},
   "outputs": [],
   "source": [
    "clean=pd.read_csv('clean_data.csv')"
   ]
  },
  {
   "cell_type": "code",
   "execution_count": 6,
   "id": "1436891c",
   "metadata": {},
   "outputs": [
    {
     "data": {
      "text/html": [
       "<div>\n",
       "<style scoped>\n",
       "    .dataframe tbody tr th:only-of-type {\n",
       "        vertical-align: middle;\n",
       "    }\n",
       "\n",
       "    .dataframe tbody tr th {\n",
       "        vertical-align: top;\n",
       "    }\n",
       "\n",
       "    .dataframe thead th {\n",
       "        text-align: right;\n",
       "    }\n",
       "</style>\n",
       "<table border=\"1\" class=\"dataframe\">\n",
       "  <thead>\n",
       "    <tr style=\"text-align: right;\">\n",
       "      <th></th>\n",
       "      <th>Unnamed: 0</th>\n",
       "      <th>ID</th>\n",
       "      <th>text</th>\n",
       "      <th>clean_text</th>\n",
       "    </tr>\n",
       "  </thead>\n",
       "  <tbody>\n",
       "    <tr>\n",
       "      <th>0</th>\n",
       "      <td>0</td>\n",
       "      <td>57</td>\n",
       "      <td>Every person has a right to profess, practice ...</td>\n",
       "      <td>person profess practice propagate religion he ...</td>\n",
       "    </tr>\n",
       "    <tr>\n",
       "      <th>1</th>\n",
       "      <td>1</td>\n",
       "      <td>1603</td>\n",
       "      <td>That is , the pigment particles mix with the v...</td>\n",
       "      <td>pigment particle mix vehicle particle distribu...</td>\n",
       "    </tr>\n",
       "    <tr>\n",
       "      <th>2</th>\n",
       "      <td>2</td>\n",
       "      <td>755</td>\n",
       "      <td>The Prime Minister of India is the leader of t...</td>\n",
       "      <td>prime minister india leader ruling party lok s...</td>\n",
       "    </tr>\n",
       "    <tr>\n",
       "      <th>3</th>\n",
       "      <td>3</td>\n",
       "      <td>1636</td>\n",
       "      <td>The water you drink now-a-days is not safe .</td>\n",
       "      <td>water drink nowadays safe</td>\n",
       "    </tr>\n",
       "    <tr>\n",
       "      <th>4</th>\n",
       "      <td>4</td>\n",
       "      <td>828</td>\n",
       "      <td>I , along with my mother , brothers and sister...</td>\n",
       "      <td>mother brother sister brought small bamboo</td>\n",
       "    </tr>\n",
       "  </tbody>\n",
       "</table>\n",
       "</div>"
      ],
      "text/plain": [
       "   Unnamed: 0    ID                                               text  \\\n",
       "0           0    57  Every person has a right to profess, practice ...   \n",
       "1           1  1603  That is , the pigment particles mix with the v...   \n",
       "2           2   755  The Prime Minister of India is the leader of t...   \n",
       "3           3  1636       The water you drink now-a-days is not safe .   \n",
       "4           4   828  I , along with my mother , brothers and sister...   \n",
       "\n",
       "                                          clean_text  \n",
       "0  person profess practice propagate religion he ...  \n",
       "1  pigment particle mix vehicle particle distribu...  \n",
       "2  prime minister india leader ruling party lok s...  \n",
       "3                          water drink nowadays safe  \n",
       "4         mother brother sister brought small bamboo  "
      ]
     },
     "execution_count": 6,
     "metadata": {},
     "output_type": "execute_result"
    }
   ],
   "source": [
    "clean.head()"
   ]
  },
  {
   "cell_type": "code",
   "execution_count": 7,
   "id": "7b8c40e9",
   "metadata": {},
   "outputs": [],
   "source": [
    "def jaro_count_method(s1,s2):\n",
    "    from strsimpy.jaro_winkler import JaroWinkler\n",
    "\n",
    "    jarowinkler = JaroWinkler()\n",
    "    simi=[]\n",
    "    simi.append(jarowinkler.similarity(s1,s2))\n",
    "   \n",
    "    return simi"
   ]
  },
  {
   "cell_type": "code",
   "execution_count": 8,
   "id": "93bb7443",
   "metadata": {},
   "outputs": [],
   "source": [
    "def jaro_sim(df,clean,bias):\n",
    "    _sim=[]\n",
    "    for i,rows in df[df['bias']==bias].iterrows():\n",
    "        \n",
    "        \n",
    "        s1=str(clean[clean['ID']==rows[\"p1\"]].iloc[0,3])\n",
    "        s2=str(clean[clean['ID']==rows[\"p2\"]].iloc[0,3])\n",
    "        _sim.append(jaro_count_method(s1,s2))\n",
    "    return _sim   \n",
    "    "
   ]
  },
  {
   "cell_type": "code",
   "execution_count": 9,
   "id": "c92046a9",
   "metadata": {},
   "outputs": [],
   "source": [
    "_sim_0=[]\n",
    "_sim_1=[]"
   ]
  },
  {
   "cell_type": "code",
   "execution_count": 10,
   "id": "c47dace2",
   "metadata": {},
   "outputs": [],
   "source": [
    "_sim_0=jaro_sim(df,clean,0)\n",
    "_sim_1=jaro_sim(df,clean,1)"
   ]
  },
  {
   "cell_type": "code",
   "execution_count": 19,
   "id": "babde470",
   "metadata": {},
   "outputs": [
    {
     "data": {
      "image/png": "[encoded data removed]",
      "text/plain": [
       "<Figure size 432x288 with 1 Axes>"
      ]
     },
     "metadata": {
      "needs_background": "light"
     },
     "output_type": "display_data"
    }
   ],
   "source": [
    "import matplotlib.pyplot as pp\n",
    "pp.plot(_sim_1,'r')\n",
    "pp.xlabel('label_1')\n",
    "pp.ylabel('jaro-winkler-similarity')\n",
    "pp.savefig('sim_1',transparent=True)"
   ]
  },
  {
   "cell_type": "code",
   "execution_count": 18,
   "id": "5ed8e47b",
   "metadata": {},
   "outputs": [
    {
     "data": {
      "image/png": "[encoded data removed]",
      "text/plain": [
       "<Figure size 432x288 with 1 Axes>"
      ]
     },
     "metadata": {
      "needs_background": "light"
     },
     "output_type": "display_data"
    }
   ],
   "source": [
    "pp.plot(_sim_0,'b')\n",
    "pp.xlabel('label_0')\n",
    "pp.ylabel('jaro-winkler-similarity')\n",
    "pp.savefig('sim_0',transparent=True)"
   ]
  },
  {
   "cell_type": "raw",
   "id": "d7672b2f",
   "metadata": {},
   "source": []
  },
  {
   "cell_type": "code",
   "execution_count": null,
   "id": "1c024c49",
   "metadata": {},
   "outputs": [],
   "source": []
  }
 ],
 "metadata": {
  "kernelspec": {
   "display_name": "Python 3 (ipykernel)",
   "language": "python",
   "name": "python3"
  },
  "language_info": {
   "codemirror_mode": {
    "name": "ipython",
    "version": 3
   },
   "file_extension": ".py",
   "mimetype": "text/x-python",
   "name": "python",
   "nbconvert_exporter": "python",
   "pygments_lexer": "ipython3",
   "version": "3.9.12"
  }
 },
 "nbformat": 4,
 "nbformat_minor": 5
}
